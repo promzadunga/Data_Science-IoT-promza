{
 "cells": [
  {
   "cell_type": "markdown",
   "metadata": {},
   "source": [
    "### Author: MMADI KGOTSO\n",
    "    \n",
    "#### Name:  Conversion Optimization Assignment\n",
    "    \n",
    "#### Discription: This exercise is for knowledge test on how i approach a data driven problem\n",
    "    \n",
    "#### Date Completed: 2018/11/13"
   ]
  },
  {
   "cell_type": "code",
   "execution_count": 1,
   "metadata": {},
   "outputs": [],
   "source": [
    "# we will first import pandas(python data analysis library) and numpy(number manipulation library)\n",
    "\n",
    "import pandas as pd\n",
    "\n",
    "import matplotlib.pyplot as plt"
   ]
  },
  {
   "cell_type": "code",
   "execution_count": 2,
   "metadata": {},
   "outputs": [],
   "source": [
    "# Read the data into the python environment (jupyter notebook)\n",
    "\n",
    "data = pd.read_csv('C:/Users/pphahlamohlaka/Downloads/Pet_Heaven_2017.csv')"
   ]
  },
  {
   "cell_type": "code",
   "execution_count": 3,
   "metadata": {},
   "outputs": [
    {
     "data": {
      "text/html": [
       "<div>\n",
       "<style scoped>\n",
       "    .dataframe tbody tr th:only-of-type {\n",
       "        vertical-align: middle;\n",
       "    }\n",
       "\n",
       "    .dataframe tbody tr th {\n",
       "        vertical-align: top;\n",
       "    }\n",
       "\n",
       "    .dataframe thead th {\n",
       "        text-align: right;\n",
       "    }\n",
       "</style>\n",
       "<table border=\"1\" class=\"dataframe\">\n",
       "  <thead>\n",
       "    <tr style=\"text-align: right;\">\n",
       "      <th></th>\n",
       "      <th>date</th>\n",
       "      <th>channelGrouping</th>\n",
       "      <th>sessions</th>\n",
       "      <th>transactions</th>\n",
       "      <th>transactionRevenue</th>\n",
       "      <th>itemQuantity</th>\n",
       "    </tr>\n",
       "  </thead>\n",
       "  <tbody>\n",
       "    <tr>\n",
       "      <th>0</th>\n",
       "      <td>20170101</td>\n",
       "      <td>(Other)</td>\n",
       "      <td>42</td>\n",
       "      <td>0</td>\n",
       "      <td>0.00</td>\n",
       "      <td>0</td>\n",
       "    </tr>\n",
       "    <tr>\n",
       "      <th>1</th>\n",
       "      <td>20170101</td>\n",
       "      <td>Direct</td>\n",
       "      <td>35</td>\n",
       "      <td>1</td>\n",
       "      <td>670.00</td>\n",
       "      <td>1</td>\n",
       "    </tr>\n",
       "    <tr>\n",
       "      <th>2</th>\n",
       "      <td>20170101</td>\n",
       "      <td>Display</td>\n",
       "      <td>10</td>\n",
       "      <td>1</td>\n",
       "      <td>44.99</td>\n",
       "      <td>4</td>\n",
       "    </tr>\n",
       "    <tr>\n",
       "      <th>3</th>\n",
       "      <td>20170101</td>\n",
       "      <td>Email</td>\n",
       "      <td>24</td>\n",
       "      <td>0</td>\n",
       "      <td>0.00</td>\n",
       "      <td>0</td>\n",
       "    </tr>\n",
       "    <tr>\n",
       "      <th>4</th>\n",
       "      <td>20170101</td>\n",
       "      <td>Organic Search</td>\n",
       "      <td>116</td>\n",
       "      <td>4</td>\n",
       "      <td>4122.21</td>\n",
       "      <td>17</td>\n",
       "    </tr>\n",
       "  </tbody>\n",
       "</table>\n",
       "</div>"
      ],
      "text/plain": [
       "       date channelGrouping  sessions  transactions  transactionRevenue  \\\n",
       "0  20170101         (Other)        42             0                0.00   \n",
       "1  20170101          Direct        35             1              670.00   \n",
       "2  20170101         Display        10             1               44.99   \n",
       "3  20170101           Email        24             0                0.00   \n",
       "4  20170101  Organic Search       116             4             4122.21   \n",
       "\n",
       "   itemQuantity  \n",
       "0             0  \n",
       "1             1  \n",
       "2             4  \n",
       "3             0  \n",
       "4            17  "
      ]
     },
     "execution_count": 3,
     "metadata": {},
     "output_type": "execute_result"
    }
   ],
   "source": [
    "data.head()"
   ]
  },
  {
   "cell_type": "code",
   "execution_count": 4,
   "metadata": {},
   "outputs": [],
   "source": [
    "#convert the date column to string\n",
    "\n",
    "import numpy as np\n",
    "data['date'] = np.array(data.date, str)"
   ]
  },
  {
   "cell_type": "code",
   "execution_count": 5,
   "metadata": {},
   "outputs": [],
   "source": [
    "# split the date into year, month and day\n",
    "\n",
    "data['year'] = [d[0:4] for d in data.date.values]\n",
    "data['month'] = [d[4:6] for d in data.date.values]\n",
    "data['day'] = [d[6:8] for d in data.date.values]"
   ]
  },
  {
   "cell_type": "code",
   "execution_count": 6,
   "metadata": {},
   "outputs": [
    {
     "data": {
      "text/html": [
       "<div>\n",
       "<style scoped>\n",
       "    .dataframe tbody tr th:only-of-type {\n",
       "        vertical-align: middle;\n",
       "    }\n",
       "\n",
       "    .dataframe tbody tr th {\n",
       "        vertical-align: top;\n",
       "    }\n",
       "\n",
       "    .dataframe thead th {\n",
       "        text-align: right;\n",
       "    }\n",
       "</style>\n",
       "<table border=\"1\" class=\"dataframe\">\n",
       "  <thead>\n",
       "    <tr style=\"text-align: right;\">\n",
       "      <th></th>\n",
       "      <th>date</th>\n",
       "      <th>channelGrouping</th>\n",
       "      <th>sessions</th>\n",
       "      <th>transactions</th>\n",
       "      <th>transactionRevenue</th>\n",
       "      <th>itemQuantity</th>\n",
       "      <th>year</th>\n",
       "      <th>month</th>\n",
       "      <th>day</th>\n",
       "    </tr>\n",
       "  </thead>\n",
       "  <tbody>\n",
       "    <tr>\n",
       "      <th>2906</th>\n",
       "      <td>20171231</td>\n",
       "      <td>Email</td>\n",
       "      <td>25</td>\n",
       "      <td>0</td>\n",
       "      <td>0.00</td>\n",
       "      <td>0</td>\n",
       "      <td>2017</td>\n",
       "      <td>12</td>\n",
       "      <td>31</td>\n",
       "    </tr>\n",
       "    <tr>\n",
       "      <th>2907</th>\n",
       "      <td>20171231</td>\n",
       "      <td>Organic Search</td>\n",
       "      <td>177</td>\n",
       "      <td>3</td>\n",
       "      <td>2734.79</td>\n",
       "      <td>12</td>\n",
       "      <td>2017</td>\n",
       "      <td>12</td>\n",
       "      <td>31</td>\n",
       "    </tr>\n",
       "    <tr>\n",
       "      <th>2908</th>\n",
       "      <td>20171231</td>\n",
       "      <td>Paid Search</td>\n",
       "      <td>174</td>\n",
       "      <td>1</td>\n",
       "      <td>477.20</td>\n",
       "      <td>4</td>\n",
       "      <td>2017</td>\n",
       "      <td>12</td>\n",
       "      <td>31</td>\n",
       "    </tr>\n",
       "    <tr>\n",
       "      <th>2909</th>\n",
       "      <td>20171231</td>\n",
       "      <td>Referral</td>\n",
       "      <td>5</td>\n",
       "      <td>0</td>\n",
       "      <td>0.00</td>\n",
       "      <td>0</td>\n",
       "      <td>2017</td>\n",
       "      <td>12</td>\n",
       "      <td>31</td>\n",
       "    </tr>\n",
       "    <tr>\n",
       "      <th>2910</th>\n",
       "      <td>20171231</td>\n",
       "      <td>Social</td>\n",
       "      <td>15</td>\n",
       "      <td>0</td>\n",
       "      <td>0.00</td>\n",
       "      <td>0</td>\n",
       "      <td>2017</td>\n",
       "      <td>12</td>\n",
       "      <td>31</td>\n",
       "    </tr>\n",
       "  </tbody>\n",
       "</table>\n",
       "</div>"
      ],
      "text/plain": [
       "          date channelGrouping  sessions  transactions  transactionRevenue  \\\n",
       "2906  20171231           Email        25             0                0.00   \n",
       "2907  20171231  Organic Search       177             3             2734.79   \n",
       "2908  20171231     Paid Search       174             1              477.20   \n",
       "2909  20171231        Referral         5             0                0.00   \n",
       "2910  20171231          Social        15             0                0.00   \n",
       "\n",
       "      itemQuantity  year month day  \n",
       "2906             0  2017    12  31  \n",
       "2907            12  2017    12  31  \n",
       "2908             4  2017    12  31  \n",
       "2909             0  2017    12  31  \n",
       "2910             0  2017    12  31  "
      ]
     },
     "execution_count": 6,
     "metadata": {},
     "output_type": "execute_result"
    }
   ],
   "source": [
    "data.tail()"
   ]
  },
  {
   "cell_type": "code",
   "execution_count": 7,
   "metadata": {},
   "outputs": [],
   "source": [
    "# rename the month column from numbers to actual names\n",
    "\n",
    "data['month'] = data['month'].replace(['01','02','03','04','05','06','07','08','09','10','11','12'],['Jan','Feb','Mar','Apr','May','Jun','Jul','Aug','Sep','Oct','Nov','Dec'])"
   ]
  },
  {
   "cell_type": "code",
   "execution_count": 8,
   "metadata": {},
   "outputs": [
    {
     "data": {
      "text/html": [
       "<div>\n",
       "<style scoped>\n",
       "    .dataframe tbody tr th:only-of-type {\n",
       "        vertical-align: middle;\n",
       "    }\n",
       "\n",
       "    .dataframe tbody tr th {\n",
       "        vertical-align: top;\n",
       "    }\n",
       "\n",
       "    .dataframe thead th {\n",
       "        text-align: right;\n",
       "    }\n",
       "</style>\n",
       "<table border=\"1\" class=\"dataframe\">\n",
       "  <thead>\n",
       "    <tr style=\"text-align: right;\">\n",
       "      <th></th>\n",
       "      <th>date</th>\n",
       "      <th>channelGrouping</th>\n",
       "      <th>sessions</th>\n",
       "      <th>transactions</th>\n",
       "      <th>transactionRevenue</th>\n",
       "      <th>itemQuantity</th>\n",
       "      <th>year</th>\n",
       "      <th>month</th>\n",
       "      <th>day</th>\n",
       "    </tr>\n",
       "  </thead>\n",
       "  <tbody>\n",
       "    <tr>\n",
       "      <th>0</th>\n",
       "      <td>20170101</td>\n",
       "      <td>(Other)</td>\n",
       "      <td>42</td>\n",
       "      <td>0</td>\n",
       "      <td>0.00</td>\n",
       "      <td>0</td>\n",
       "      <td>2017</td>\n",
       "      <td>Jan</td>\n",
       "      <td>01</td>\n",
       "    </tr>\n",
       "    <tr>\n",
       "      <th>1</th>\n",
       "      <td>20170101</td>\n",
       "      <td>Direct</td>\n",
       "      <td>35</td>\n",
       "      <td>1</td>\n",
       "      <td>670.00</td>\n",
       "      <td>1</td>\n",
       "      <td>2017</td>\n",
       "      <td>Jan</td>\n",
       "      <td>01</td>\n",
       "    </tr>\n",
       "    <tr>\n",
       "      <th>2</th>\n",
       "      <td>20170101</td>\n",
       "      <td>Display</td>\n",
       "      <td>10</td>\n",
       "      <td>1</td>\n",
       "      <td>44.99</td>\n",
       "      <td>4</td>\n",
       "      <td>2017</td>\n",
       "      <td>Jan</td>\n",
       "      <td>01</td>\n",
       "    </tr>\n",
       "    <tr>\n",
       "      <th>3</th>\n",
       "      <td>20170101</td>\n",
       "      <td>Email</td>\n",
       "      <td>24</td>\n",
       "      <td>0</td>\n",
       "      <td>0.00</td>\n",
       "      <td>0</td>\n",
       "      <td>2017</td>\n",
       "      <td>Jan</td>\n",
       "      <td>01</td>\n",
       "    </tr>\n",
       "    <tr>\n",
       "      <th>4</th>\n",
       "      <td>20170101</td>\n",
       "      <td>Organic Search</td>\n",
       "      <td>116</td>\n",
       "      <td>4</td>\n",
       "      <td>4122.21</td>\n",
       "      <td>17</td>\n",
       "      <td>2017</td>\n",
       "      <td>Jan</td>\n",
       "      <td>01</td>\n",
       "    </tr>\n",
       "  </tbody>\n",
       "</table>\n",
       "</div>"
      ],
      "text/plain": [
       "       date channelGrouping  sessions  transactions  transactionRevenue  \\\n",
       "0  20170101         (Other)        42             0                0.00   \n",
       "1  20170101          Direct        35             1              670.00   \n",
       "2  20170101         Display        10             1               44.99   \n",
       "3  20170101           Email        24             0                0.00   \n",
       "4  20170101  Organic Search       116             4             4122.21   \n",
       "\n",
       "   itemQuantity  year month day  \n",
       "0             0  2017   Jan  01  \n",
       "1             1  2017   Jan  01  \n",
       "2             4  2017   Jan  01  \n",
       "3             0  2017   Jan  01  \n",
       "4            17  2017   Jan  01  "
      ]
     },
     "execution_count": 8,
     "metadata": {},
     "output_type": "execute_result"
    }
   ],
   "source": [
    "data.head()"
   ]
  },
  {
   "cell_type": "code",
   "execution_count": 9,
   "metadata": {},
   "outputs": [],
   "source": [
    "#data2 = data.copy()"
   ]
  },
  {
   "cell_type": "code",
   "execution_count": 10,
   "metadata": {},
   "outputs": [],
   "source": [
    "#calculate conversion rate and add the column to the dataframe\n",
    "\n",
    "data['conversionRate'] = data['transactions'] / data['sessions']"
   ]
  },
  {
   "cell_type": "code",
   "execution_count": 11,
   "metadata": {},
   "outputs": [
    {
     "data": {
      "text/html": [
       "<div>\n",
       "<style scoped>\n",
       "    .dataframe tbody tr th:only-of-type {\n",
       "        vertical-align: middle;\n",
       "    }\n",
       "\n",
       "    .dataframe tbody tr th {\n",
       "        vertical-align: top;\n",
       "    }\n",
       "\n",
       "    .dataframe thead th {\n",
       "        text-align: right;\n",
       "    }\n",
       "</style>\n",
       "<table border=\"1\" class=\"dataframe\">\n",
       "  <thead>\n",
       "    <tr style=\"text-align: right;\">\n",
       "      <th></th>\n",
       "      <th>date</th>\n",
       "      <th>channelGrouping</th>\n",
       "      <th>sessions</th>\n",
       "      <th>transactions</th>\n",
       "      <th>transactionRevenue</th>\n",
       "      <th>itemQuantity</th>\n",
       "      <th>year</th>\n",
       "      <th>month</th>\n",
       "      <th>day</th>\n",
       "      <th>conversionRate</th>\n",
       "    </tr>\n",
       "  </thead>\n",
       "  <tbody>\n",
       "    <tr>\n",
       "      <th>2906</th>\n",
       "      <td>20171231</td>\n",
       "      <td>Email</td>\n",
       "      <td>25</td>\n",
       "      <td>0</td>\n",
       "      <td>0.00</td>\n",
       "      <td>0</td>\n",
       "      <td>2017</td>\n",
       "      <td>Dec</td>\n",
       "      <td>31</td>\n",
       "      <td>0.000000</td>\n",
       "    </tr>\n",
       "    <tr>\n",
       "      <th>2907</th>\n",
       "      <td>20171231</td>\n",
       "      <td>Organic Search</td>\n",
       "      <td>177</td>\n",
       "      <td>3</td>\n",
       "      <td>2734.79</td>\n",
       "      <td>12</td>\n",
       "      <td>2017</td>\n",
       "      <td>Dec</td>\n",
       "      <td>31</td>\n",
       "      <td>0.016949</td>\n",
       "    </tr>\n",
       "    <tr>\n",
       "      <th>2908</th>\n",
       "      <td>20171231</td>\n",
       "      <td>Paid Search</td>\n",
       "      <td>174</td>\n",
       "      <td>1</td>\n",
       "      <td>477.20</td>\n",
       "      <td>4</td>\n",
       "      <td>2017</td>\n",
       "      <td>Dec</td>\n",
       "      <td>31</td>\n",
       "      <td>0.005747</td>\n",
       "    </tr>\n",
       "    <tr>\n",
       "      <th>2909</th>\n",
       "      <td>20171231</td>\n",
       "      <td>Referral</td>\n",
       "      <td>5</td>\n",
       "      <td>0</td>\n",
       "      <td>0.00</td>\n",
       "      <td>0</td>\n",
       "      <td>2017</td>\n",
       "      <td>Dec</td>\n",
       "      <td>31</td>\n",
       "      <td>0.000000</td>\n",
       "    </tr>\n",
       "    <tr>\n",
       "      <th>2910</th>\n",
       "      <td>20171231</td>\n",
       "      <td>Social</td>\n",
       "      <td>15</td>\n",
       "      <td>0</td>\n",
       "      <td>0.00</td>\n",
       "      <td>0</td>\n",
       "      <td>2017</td>\n",
       "      <td>Dec</td>\n",
       "      <td>31</td>\n",
       "      <td>0.000000</td>\n",
       "    </tr>\n",
       "  </tbody>\n",
       "</table>\n",
       "</div>"
      ],
      "text/plain": [
       "          date channelGrouping  sessions  transactions  transactionRevenue  \\\n",
       "2906  20171231           Email        25             0                0.00   \n",
       "2907  20171231  Organic Search       177             3             2734.79   \n",
       "2908  20171231     Paid Search       174             1              477.20   \n",
       "2909  20171231        Referral         5             0                0.00   \n",
       "2910  20171231          Social        15             0                0.00   \n",
       "\n",
       "      itemQuantity  year month day  conversionRate  \n",
       "2906             0  2017   Dec  31        0.000000  \n",
       "2907            12  2017   Dec  31        0.016949  \n",
       "2908             4  2017   Dec  31        0.005747  \n",
       "2909             0  2017   Dec  31        0.000000  \n",
       "2910             0  2017   Dec  31        0.000000  "
      ]
     },
     "execution_count": 11,
     "metadata": {},
     "output_type": "execute_result"
    }
   ],
   "source": [
    "data.tail(5)"
   ]
  },
  {
   "cell_type": "code",
   "execution_count": 12,
   "metadata": {},
   "outputs": [],
   "source": [
    "# calculate the AOV and add the column to the dataframe\n",
    "\n",
    "data['AOV'] = data['transactionRevenue'] / data['transactions']"
   ]
  },
  {
   "cell_type": "code",
   "execution_count": 13,
   "metadata": {},
   "outputs": [
    {
     "data": {
      "text/html": [
       "<div>\n",
       "<style scoped>\n",
       "    .dataframe tbody tr th:only-of-type {\n",
       "        vertical-align: middle;\n",
       "    }\n",
       "\n",
       "    .dataframe tbody tr th {\n",
       "        vertical-align: top;\n",
       "    }\n",
       "\n",
       "    .dataframe thead th {\n",
       "        text-align: right;\n",
       "    }\n",
       "</style>\n",
       "<table border=\"1\" class=\"dataframe\">\n",
       "  <thead>\n",
       "    <tr style=\"text-align: right;\">\n",
       "      <th></th>\n",
       "      <th>date</th>\n",
       "      <th>channelGrouping</th>\n",
       "      <th>sessions</th>\n",
       "      <th>transactions</th>\n",
       "      <th>transactionRevenue</th>\n",
       "      <th>itemQuantity</th>\n",
       "      <th>year</th>\n",
       "      <th>month</th>\n",
       "      <th>day</th>\n",
       "      <th>conversionRate</th>\n",
       "      <th>AOV</th>\n",
       "    </tr>\n",
       "  </thead>\n",
       "  <tbody>\n",
       "    <tr>\n",
       "      <th>0</th>\n",
       "      <td>20170101</td>\n",
       "      <td>(Other)</td>\n",
       "      <td>42</td>\n",
       "      <td>0</td>\n",
       "      <td>0.00</td>\n",
       "      <td>0</td>\n",
       "      <td>2017</td>\n",
       "      <td>Jan</td>\n",
       "      <td>01</td>\n",
       "      <td>0.000000</td>\n",
       "      <td>NaN</td>\n",
       "    </tr>\n",
       "    <tr>\n",
       "      <th>1</th>\n",
       "      <td>20170101</td>\n",
       "      <td>Direct</td>\n",
       "      <td>35</td>\n",
       "      <td>1</td>\n",
       "      <td>670.00</td>\n",
       "      <td>1</td>\n",
       "      <td>2017</td>\n",
       "      <td>Jan</td>\n",
       "      <td>01</td>\n",
       "      <td>0.028571</td>\n",
       "      <td>670.0000</td>\n",
       "    </tr>\n",
       "    <tr>\n",
       "      <th>2</th>\n",
       "      <td>20170101</td>\n",
       "      <td>Display</td>\n",
       "      <td>10</td>\n",
       "      <td>1</td>\n",
       "      <td>44.99</td>\n",
       "      <td>4</td>\n",
       "      <td>2017</td>\n",
       "      <td>Jan</td>\n",
       "      <td>01</td>\n",
       "      <td>0.100000</td>\n",
       "      <td>44.9900</td>\n",
       "    </tr>\n",
       "    <tr>\n",
       "      <th>3</th>\n",
       "      <td>20170101</td>\n",
       "      <td>Email</td>\n",
       "      <td>24</td>\n",
       "      <td>0</td>\n",
       "      <td>0.00</td>\n",
       "      <td>0</td>\n",
       "      <td>2017</td>\n",
       "      <td>Jan</td>\n",
       "      <td>01</td>\n",
       "      <td>0.000000</td>\n",
       "      <td>NaN</td>\n",
       "    </tr>\n",
       "    <tr>\n",
       "      <th>4</th>\n",
       "      <td>20170101</td>\n",
       "      <td>Organic Search</td>\n",
       "      <td>116</td>\n",
       "      <td>4</td>\n",
       "      <td>4122.21</td>\n",
       "      <td>17</td>\n",
       "      <td>2017</td>\n",
       "      <td>Jan</td>\n",
       "      <td>01</td>\n",
       "      <td>0.034483</td>\n",
       "      <td>1030.5525</td>\n",
       "    </tr>\n",
       "  </tbody>\n",
       "</table>\n",
       "</div>"
      ],
      "text/plain": [
       "       date channelGrouping  sessions  transactions  transactionRevenue  \\\n",
       "0  20170101         (Other)        42             0                0.00   \n",
       "1  20170101          Direct        35             1              670.00   \n",
       "2  20170101         Display        10             1               44.99   \n",
       "3  20170101           Email        24             0                0.00   \n",
       "4  20170101  Organic Search       116             4             4122.21   \n",
       "\n",
       "   itemQuantity  year month day  conversionRate        AOV  \n",
       "0             0  2017   Jan  01        0.000000        NaN  \n",
       "1             1  2017   Jan  01        0.028571   670.0000  \n",
       "2             4  2017   Jan  01        0.100000    44.9900  \n",
       "3             0  2017   Jan  01        0.000000        NaN  \n",
       "4            17  2017   Jan  01        0.034483  1030.5525  "
      ]
     },
     "execution_count": 13,
     "metadata": {},
     "output_type": "execute_result"
    }
   ],
   "source": [
    "data.head()"
   ]
  },
  {
   "cell_type": "code",
   "execution_count": 14,
   "metadata": {},
   "outputs": [],
   "source": [
    "# get the highest AOV by month\n",
    "\n",
    "tot = data.groupby('month').AOV.sum()"
   ]
  },
  {
   "cell_type": "code",
   "execution_count": 15,
   "metadata": {},
   "outputs": [
    {
     "data": {
      "text/plain": [
       "month\n",
       "Nov    130641.832675\n",
       "Jun    128962.329958\n",
       "Oct    126578.839967\n",
       "Mar    121505.093194\n",
       "May    117942.342462\n",
       "Jul    117452.896396\n",
       "Jan    117143.669981\n",
       "Aug    116873.409192\n",
       "Dec    115821.334325\n",
       "Feb    113057.175898\n",
       "Sep    112338.452254\n",
       "Apr     97730.573958\n",
       "Name: AOV, dtype: float64"
      ]
     },
     "execution_count": 15,
     "metadata": {},
     "output_type": "execute_result"
    }
   ],
   "source": [
    "# sort values from high to low (descending)\n",
    "\n",
    "tot.sort_values(ascending=False)"
   ]
  },
  {
   "cell_type": "code",
   "execution_count": 16,
   "metadata": {},
   "outputs": [],
   "source": [
    "# get the highest conversion rate by month \n",
    "\n",
    "tot1 = data.groupby('month').conversionRate.sum()"
   ]
  },
  {
   "cell_type": "code",
   "execution_count": 17,
   "metadata": {},
   "outputs": [
    {
     "data": {
      "text/plain": [
       "month\n",
       "Feb    10.715824\n",
       "Jan     7.492165\n",
       "Nov     6.581425\n",
       "Apr     6.076831\n",
       "Mar     5.642424\n",
       "Dec     5.632164\n",
       "Jul     5.434254\n",
       "Aug     5.230353\n",
       "Oct     5.151513\n",
       "Sep     5.104119\n",
       "Jun     4.768195\n",
       "May     4.038648\n",
       "Name: conversionRate, dtype: float64"
      ]
     },
     "execution_count": 17,
     "metadata": {},
     "output_type": "execute_result"
    }
   ],
   "source": [
    "tot1.sort_values(ascending=False)"
   ]
  },
  {
   "cell_type": "code",
   "execution_count": 19,
   "metadata": {},
   "outputs": [
    {
     "data": {
      "image/png": "[encoded data removed]",
      "text/plain": [
       "<Figure size 432x288 with 1 Axes>"
      ]
     },
     "metadata": {},
     "output_type": "display_data"
    }
   ],
   "source": [
    "# plot conversion rate by month\n",
    "\n",
    "figsize=(15,15)\n",
    "ax = plt.axes()\n",
    "xline_channel = data['month']\n",
    "yline_items = data['conversionRate']\n",
    "ax.bar(xline_channel,yline_items, color='g')\n",
    "ax.set_title('conversion rate by month')\n",
    "plt.xlabel('month')\n",
    "plt.ylabel('conversionRate')\n",
    "plt.show()"
   ]
  },
  {
   "cell_type": "markdown",
   "metadata": {},
   "source": [
    "#### from here we are calculating the estimated revenue if conversion rate increased with 0.55%"
   ]
  },
  {
   "cell_type": "code",
   "execution_count": 20,
   "metadata": {},
   "outputs": [],
   "source": [
    "total_rev = data['conversionRate'] * 0.0055"
   ]
  },
  {
   "cell_type": "code",
   "execution_count": 21,
   "metadata": {},
   "outputs": [],
   "source": [
    "revenue = total_rev.sum()"
   ]
  },
  {
   "cell_type": "code",
   "execution_count": 22,
   "metadata": {},
   "outputs": [
    {
     "data": {
      "text/plain": [
       "0.3952735318506689"
      ]
     },
     "execution_count": 22,
     "metadata": {},
     "output_type": "execute_result"
    }
   ],
   "source": [
    "revenue"
   ]
  },
  {
   "cell_type": "code",
   "execution_count": 23,
   "metadata": {},
   "outputs": [],
   "source": [
    "revenue_sum = data['transactionRevenue'].sum()"
   ]
  },
  {
   "cell_type": "code",
   "execution_count": 24,
   "metadata": {},
   "outputs": [
    {
     "data": {
      "text/plain": [
       "7140188.67"
      ]
     },
     "execution_count": 24,
     "metadata": {},
     "output_type": "execute_result"
    }
   ],
   "source": [
    "# this here is the revenue for year 2017 without increase\n",
    "revenue_sum"
   ]
  },
  {
   "cell_type": "code",
   "execution_count": 25,
   "metadata": {},
   "outputs": [],
   "source": [
    "Final_Rev = revenue_sum * revenue"
   ]
  },
  {
   "cell_type": "code",
   "execution_count": 26,
   "metadata": {},
   "outputs": [
    {
     "data": {
      "text/plain": [
       "2822327.59367103"
      ]
     },
     "execution_count": 26,
     "metadata": {},
     "output_type": "execute_result"
    }
   ],
   "source": [
    "Final_Rev"
   ]
  },
  {
   "cell_type": "code",
   "execution_count": 27,
   "metadata": {},
   "outputs": [],
   "source": [
    "Total_Revenue = Final_Rev + revenue_sum"
   ]
  },
  {
   "cell_type": "code",
   "execution_count": 28,
   "metadata": {},
   "outputs": [
    {
     "data": {
      "text/plain": [
       "9962516.26367103"
      ]
     },
     "execution_count": 28,
     "metadata": {},
     "output_type": "execute_result"
    }
   ],
   "source": [
    "# This is the revenue after 0.55% conversion increase\n",
    "\n",
    "Total_Revenue"
   ]
  },
  {
   "cell_type": "code",
   "execution_count": null,
   "metadata": {},
   "outputs": [],
   "source": []
  },
  {
   "cell_type": "code",
   "execution_count": null,
   "metadata": {},
   "outputs": [],
   "source": []
  },
  {
   "cell_type": "code",
   "execution_count": null,
   "metadata": {},
   "outputs": [],
   "source": []
  },
  {
   "cell_type": "code",
   "execution_count": null,
   "metadata": {},
   "outputs": [],
   "source": []
  }
 ],
 "metadata": {
  "kernelspec": {
   "display_name": "Python 3",
   "language": "python",
   "name": "python3"
  },
  "language_info": {
   "codemirror_mode": {
    "name": "ipython",
    "version": 3
   },
   "file_extension": ".py",
   "mimetype": "text/x-python",
   "name": "python",
   "nbconvert_exporter": "python",
   "pygments_lexer": "ipython3",
   "version": "3.6.5"
  }
 },
 "nbformat": 4,
 "nbformat_minor": 2
}
